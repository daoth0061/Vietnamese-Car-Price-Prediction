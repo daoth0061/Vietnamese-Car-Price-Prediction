{
 "cells": [
  {
   "cell_type": "code",
   "execution_count": 1,
   "metadata": {},
   "outputs": [],
   "source": [
    "import numpy as np \n",
    "import pandas as pd  \n",
    "import matplotlib.pyplot as plt \n",
    "from sklearn.preprocessing import StandardScaler\n"
   ]
  },
  {
   "cell_type": "markdown",
   "metadata": {},
   "source": [
    "# 1, Similar car\n"
   ]
  },
  {
   "cell_type": "code",
   "execution_count": 2,
   "metadata": {},
   "outputs": [
    {
     "data": {
      "text/plain": [
       "(26725, 21)"
      ]
     },
     "execution_count": 2,
     "metadata": {},
     "output_type": "execute_result"
    }
   ],
   "source": [
    "df_ori = pd.read_csv(\"D:\\Project\\Car-Evaluation\\Dataset\\Final\\Remove-null-car_name-and-fill-null.csv\")\n",
    "df_ori.shape\n"
   ]
  },
  {
   "cell_type": "code",
   "execution_count": 3,
   "metadata": {},
   "outputs": [],
   "source": [
    "from sklearn.neighbors import NearestNeighbors\n",
    "from sklearn.preprocessing import OneHotEncoder"
   ]
  },
  {
   "cell_type": "code",
   "execution_count": 4,
   "metadata": {},
   "outputs": [],
   "source": [
    "def getKNearestNeighbor(X, k = 5, metrics = 'manhattan'):\n",
    "    nbrs = NearestNeighbors(n_neighbors=k, metric=metrics, algorithm='brute').fit(X)\n",
    "    _, indices = nbrs.kneighbors(X)\n",
    "    indices_list = list(map(list, indices))\n",
    "    for i, row in enumerate(indices_list):\n",
    "        if i in row:\n",
    "            row.remove(i)\n",
    "        else:\n",
    "            row.pop()\n",
    "    return np.array(indices_list)"
   ]
  },
  {
   "cell_type": "code",
   "execution_count": 5,
   "metadata": {},
   "outputs": [],
   "source": [
    "def showSimilarCar(X, index, df):\n",
    "    list_index = [index] + list(X[index])\n",
    "    print(df.iloc[list_index, :])"
   ]
  },
  {
   "cell_type": "code",
   "execution_count": 6,
   "metadata": {},
   "outputs": [
    {
     "name": "stderr",
     "output_type": "stream",
     "text": [
      "C:\\Users\\admin\\AppData\\Local\\Packages\\PythonSoftwareFoundation.Python.3.11_qbz5n2kfra8p0\\LocalCache\\local-packages\\Python311\\site-packages\\sklearn\\preprocessing\\_encoders.py:975: FutureWarning: `sparse` was renamed to `sparse_output` in version 1.2 and will be removed in 1.4. `sparse_output` is ignored unless you leave `sparse` to its default value.\n",
      "  warnings.warn(\n"
     ]
    },
    {
     "data": {
      "text/plain": [
       "(26725, 5672)"
      ]
     },
     "execution_count": 6,
     "metadata": {},
     "output_type": "execute_result"
    }
   ],
   "source": [
    "encoder = OneHotEncoder(sparse=False, drop='first')\n",
    "df = df_ori.drop(['url', 'price', 'ad_id', 'condition'], axis=1)\n",
    "categorical_columns = ['origin', 'car_model', 'exterior_color', 'interior_color', 'engine', 'transmission', 'drive_type', 'brand', 'grade','car_name']\n",
    "df_encoded = encoder.fit_transform(df[categorical_columns])\n",
    "onehot_encoded_df = pd.DataFrame(df_encoded, columns=encoder.get_feature_names_out(categorical_columns))\n",
    "df_onehot = pd.concat([df.drop(columns=categorical_columns), onehot_encoded_df], axis=1)\n",
    "df_onehot.shape"
   ]
  }
 ],
 "metadata": {
  "kernelspec": {
   "display_name": "base",
   "language": "python",
   "name": "python3"
  },
  "language_info": {
   "codemirror_mode": {
    "name": "ipython",
    "version": 3
   },
   "file_extension": ".py",
   "mimetype": "text/x-python",
   "name": "python",
   "nbconvert_exporter": "python",
   "pygments_lexer": "ipython3",
   "version": "3.11.9"
  }
 },
 "nbformat": 4,
 "nbformat_minor": 2
}
