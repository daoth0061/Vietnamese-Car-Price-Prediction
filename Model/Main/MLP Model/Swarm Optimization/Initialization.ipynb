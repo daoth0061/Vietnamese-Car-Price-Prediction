{
 "cells": [
  {
   "cell_type": "markdown",
   "metadata": {},
   "source": [
    "# MLP for Dataset Version 3 (Dimension Reduction) + Optimized Hyperparameter + Metaheuristic Initialization"
   ]
  },
  {
   "cell_type": "markdown",
   "metadata": {},
   "source": [
    "1. Import Necessary Libraries:"
   ]
  },
  {
   "cell_type": "code",
   "execution_count": 1,
   "metadata": {},
   "outputs": [],
   "source": [
    "import torch\n",
    "import torch.nn as nn\n",
    "import torch.optim as optim\n",
    "from torch.utils.data import Dataset, DataLoader\n",
    "import numpy as np\n",
    "import pandas as pd\n",
    "from sklearn.model_selection import train_test_split\n",
    "from sklearn.preprocessing import StandardScaler\n",
    "from sklearn.metrics import mean_squared_error, r2_score, mean_absolute_error\n",
    "from datetime import datetime\n",
    "import matplotlib.pyplot as plt\n",
    "\n",
    "import time\n",
    "\n",
    "from RandomInitializer import *\n",
    "from QuasirandomInitializer import *\n",
    "from SphereInitializer import *\n",
    "from Bounds import *\n",
    "from LinearInertia import *\n",
    "\n",
    "from DE import *\n",
    "from PSO import *\n",
    "from Jaya import *\n",
    "from GA import *"
   ]
  },
  {
   "cell_type": "markdown",
   "metadata": {},
   "source": [
    "2. Preparing Data:"
   ]
  },
  {
   "cell_type": "code",
   "execution_count": 2,
   "metadata": {},
   "outputs": [],
   "source": [
    "data = pd.read_csv(\"../DataVersion3.csv\")"
   ]
  },
  {
   "cell_type": "code",
   "execution_count": 3,
   "metadata": {},
   "outputs": [
    {
     "data": {
      "text/plain": [
       "(25794, 17)"
      ]
     },
     "execution_count": 3,
     "metadata": {},
     "output_type": "execute_result"
    }
   ],
   "source": [
    "data.shape"
   ]
  },
  {
   "cell_type": "code",
   "execution_count": 4,
   "metadata": {},
   "outputs": [],
   "source": [
    "data_reduced_dim = pd.read_csv(\"../TruncatedSVD_50.csv\", header = None)"
   ]
  },
  {
   "cell_type": "code",
   "execution_count": 5,
   "metadata": {},
   "outputs": [
    {
     "data": {
      "text/plain": [
       "(25794, 50)"
      ]
     },
     "execution_count": 5,
     "metadata": {},
     "output_type": "execute_result"
    }
   ],
   "source": [
    "data_reduced_dim.shape"
   ]
  },
  {
   "cell_type": "code",
   "execution_count": 6,
   "metadata": {},
   "outputs": [],
   "source": [
    "# Split data into train, validation, and test sets\n",
    "X = data_reduced_dim.values\n",
    "y = data[\"price_in_billion\"].values\n",
    "\n",
    "scaler = StandardScaler()\n",
    "X = scaler.fit_transform(X)"
   ]
  },
  {
   "cell_type": "code",
   "execution_count": 7,
   "metadata": {},
   "outputs": [
    {
     "data": {
      "text/plain": [
       "(25794, 50)"
      ]
     },
     "execution_count": 7,
     "metadata": {},
     "output_type": "execute_result"
    }
   ],
   "source": [
    "X.shape"
   ]
  },
  {
   "cell_type": "code",
   "execution_count": 8,
   "metadata": {},
   "outputs": [],
   "source": [
    "X_train, X_temp, y_train, y_temp = train_test_split(X, y, test_size=0.3, random_state=42)\n",
    "X_val, X_test, y_val, y_test = train_test_split(X_temp, y_temp, test_size=0.5, random_state=42)"
   ]
  },
  {
   "cell_type": "code",
   "execution_count": 9,
   "metadata": {},
   "outputs": [],
   "source": [
    "class CarDataset(Dataset):\n",
    "    def __init__(self, X, y):\n",
    "        if not torch.is_tensor(X) and not torch.is_tensor(y):\n",
    "            self.X = torch.tensor(X, dtype=torch.float32)\n",
    "            self.y = torch.tensor(y, dtype=torch.float32).unsqueeze(1)\n",
    "\n",
    "    def __len__(self):\n",
    "        return len(self.X)\n",
    "\n",
    "    def __getitem__(self, idx):\n",
    "        return self.X[idx], self.y[idx]"
   ]
  },
  {
   "cell_type": "code",
   "execution_count": 10,
   "metadata": {},
   "outputs": [],
   "source": [
    "train_dataset = CarDataset(X_train, y_train)\n",
    "val_dataset = CarDataset(X_val, y_val)\n",
    "test_dataset = CarDataset(X_test, y_test)\n",
    "\n",
    "# Load the saved DataLoader objects\n",
    "BATCH_SIZE = 32\n",
    "train_loader = DataLoader(train_dataset, batch_size = BATCH_SIZE, shuffle = True)\n",
    "val_loader = DataLoader(val_dataset, batch_size = BATCH_SIZE, shuffle = True)\n",
    "test_loader = DataLoader(test_dataset, batch_size = BATCH_SIZE, shuffle = True)"
   ]
  },
  {
   "cell_type": "code",
   "execution_count": 11,
   "metadata": {},
   "outputs": [
    {
     "ename": "",
     "evalue": "",
     "output_type": "error",
     "traceback": [
      "\u001b[1;31mThe Kernel crashed while executing code in the current cell or a previous cell. \n",
      "\u001b[1;31mPlease review the code in the cell(s) to identify a possible cause of the failure. \n",
      "\u001b[1;31mClick <a href='https://aka.ms/vscodeJupyterKernelCrash'>here</a> for more info. \n",
      "\u001b[1;31mView Jupyter <a href='command:jupyter.viewOutput'>log</a> for further details."
     ]
    }
   ],
   "source": [
    "#MLP for regresion\n",
    "class MLP(nn.Module):\n",
    "    def __init__(self, layer_sizes):\n",
    "        super(MLP, self).__init__()\n",
    "        layers = []\n",
    "        for i in range(len(layer_sizes) - 1):\n",
    "            layers.append(nn.Linear(layer_sizes[i], layer_sizes[i+1]))\n",
    "            if i < len(layer_sizes) - 2: \n",
    "                layers.append(nn.ReLU())\n",
    "        self.network = nn.Sequential(*layers)\n",
    "    \n",
    "    def forward(self, x):\n",
    "        return self.network(x)\n"
   ]
  },
  {
   "cell_type": "code",
   "execution_count": 12,
   "metadata": {},
   "outputs": [],
   "source": [
    "layer_sizes = [50]\n",
    "\n",
    "hidden_layer_sizes = [6, 4, 2] \n",
    "layer_sizes.extend(hidden_layer_sizes)\n",
    "\n",
    "layer_sizes.append(1)\n",
    "\n",
    "model = MLP(layer_sizes)\n",
    "\n",
    "optimizer = optim.Adam(model.parameters(), lr = 0.0023340117186307907, weight_decay = 6.818751742897769e-05)\n",
    "criterion = nn.MSELoss()  # Mean Squared Error Loss for regression"
   ]
  },
  {
   "cell_type": "code",
   "execution_count": 13,
   "metadata": {},
   "outputs": [
    {
     "data": {
      "text/plain": [
       "MLP(\n",
       "  (network): Sequential(\n",
       "    (0): Linear(in_features=50, out_features=6, bias=True)\n",
       "    (1): ReLU()\n",
       "    (2): Linear(in_features=6, out_features=4, bias=True)\n",
       "    (3): ReLU()\n",
       "    (4): Linear(in_features=4, out_features=2, bias=True)\n",
       "    (5): ReLU()\n",
       "    (6): Linear(in_features=2, out_features=1, bias=True)\n",
       "  )\n",
       ")"
      ]
     },
     "execution_count": 13,
     "metadata": {},
     "output_type": "execute_result"
    }
   ],
   "source": [
    "device = torch.device('cuda' if torch.cuda.is_available() else 'cpu')\n",
    "model.to(device)"
   ]
  },
  {
   "cell_type": "code",
   "execution_count": 14,
   "metadata": {},
   "outputs": [
    {
     "name": "stdout",
     "output_type": "stream",
     "text": [
      "PSO\n",
      "Iter 1/8, best training loss: 2.3928\n",
      "Iter 2/8, best training loss: 2.3928\n",
      "Iter 3/8, best training loss: 2.3921\n",
      "Iter 4/8, best training loss: 2.3905\n",
      "Iter 5/8, best training loss: 2.3861\n",
      "Iter 6/8, best training loss: 2.3850\n",
      "Iter 6/8, best training loss: 2.3825\n",
      "Iter 7/8, best training loss: 2.3792\n",
      "Iter 7/8, best training loss: 2.3785\n",
      "Iter 8/8, best training loss: 2.3750\n",
      "Iter 8/8, best training loss: 2.3744\n",
      "Iter 8/8, best training loss: 2.3733\n",
      "DE\n",
      "Iter 2/8, best training loss: 2.3917\n",
      "Iter 3/8, best training loss: 2.3911\n",
      "Iter 4/8, best training loss: 2.3884\n",
      "Iter 6/8, best training loss: 2.3855\n",
      "Iter 6/8, best training loss: 2.3835\n",
      "Iter 7/8, best training loss: 2.3790\n",
      "Iter 8/8, best training loss: 2.3753\n",
      "JAYA\n",
      "Iter 1/8, best training loss: 2.3866\n",
      "Iter 2/8, best training loss: 2.3781\n",
      "Iter 3/8, best training loss: 2.3732\n",
      "Iter 3/8, best training loss: 2.3708\n",
      "Iter 4/8, best training loss: 2.3620\n",
      "Iter 5/8, best training loss: 2.3503\n",
      "Iter 6/8, best training loss: 2.3357\n",
      "Iter 7/8, best training loss: 2.3302\n",
      "Iter 8/8, best training loss: 2.3298\n",
      "Iter 8/8, best training loss: 2.3153\n",
      "GA\n",
      "Iter 1/8, best training loss: 2.3939\n",
      "Iter 1/8, best training loss: 2.3939\n",
      "Iter 2/8, best training loss: 2.3938\n",
      "Iter 3/8, best training loss: 2.3938\n",
      "Ranked: (npart=5, niter=8)\n",
      "Val Loss  time\n",
      " 4.7277  24.854  JAYA\n",
      " 4.9954  21.883  PSO\n",
      " 5.0090  20.631  DE\n",
      " 5.0931  21.302  GA\n",
      "\n"
     ]
    }
   ],
   "source": [
    "################################################################\n",
    "#  SwarmObjective\n",
    "#\n",
    "class SwarmObjective:\n",
    "    def __init__(self, model):\n",
    "        \"\"\"Keep the NN object and test data\"\"\"\n",
    "        self.model = model\n",
    "\n",
    "    def Evaluate(self, params, criterion = nn.MSELoss(), device = device, data_evaluate_on = train_loader):\n",
    "    # Set the parameters in the model\n",
    "        idx = 0\n",
    "        for p in self.model.parameters():\n",
    "            p.data = torch.tensor((params[idx:idx + p.numel()]).reshape(p.size())).float().to(device)\n",
    "            idx += p.numel()\n",
    "        \n",
    "        loss = 0\n",
    "        self.model.eval()\n",
    "        for (data, target) in data_evaluate_on:\n",
    "            with torch.no_grad():\n",
    "                outputs = self.model(data.to(device))\n",
    "                loss += criterion(outputs, target.to(device)).item()\n",
    "        return loss/len(data_evaluate_on)\n",
    "\n",
    "\n",
    "################################################################\n",
    "#  Set weights\n",
    "#\n",
    "def SetWeights(model, params):\n",
    "    \"\"\"Set the weight of the given NN object\"\"\"\n",
    "    idx = 0\n",
    "    for p in model.parameters():\n",
    "        numel = p.numel()\n",
    "        p.data = torch.tensor(params[idx:idx + numel]).reshape(p.size()).float()\n",
    "        idx += numel\n",
    "\n",
    "################################################################\n",
    "#  main\n",
    "#\n",
    "def main(npart, niter, itype):\n",
    "    '''train the models\n",
    "    <npart>  - number of swarm particles\n",
    "    <niter>  - number of swarm iterations\n",
    "    RI|QI|SI - swarm initializer'''\n",
    "\n",
    "    ndim = sum(p.numel() for p in model.parameters())\n",
    "\n",
    "    #  For tracking performance\n",
    "    val_loss = []\n",
    "    running_time = []\n",
    "    M = []\n",
    "\n",
    "    obj = SwarmObjective(model)\n",
    "\n",
    "    #  Use very small initial weights\n",
    "    b = Bounds(-0.01*np.ones(ndim), 0.01*np.ones(ndim), enforce=\"resample\")\n",
    "\n",
    "    if (itype == \"SI\"):\n",
    "        i = SphereInitializer(npart, ndim, bounds=b)\n",
    "    elif (itype == \"QI\"):\n",
    "        i = QuasirandomInitializer(npart, ndim, bounds=b)\n",
    "    else:\n",
    "        i = RandomInitializer(npart, ndim, bounds=b)\n",
    "\n",
    "    #  But increase the range allowed by the weights\n",
    "    b = Bounds(-10*np.ones(ndim), 10*np.ones(ndim), enforce=\"resample\")\n",
    "\n",
    "    #  Loop over algorithms\n",
    "    for alg in [\"PSO\",\"DE\",\"JAYA\",\"GA\"]:\n",
    "        print(alg)\n",
    "        if (alg == \"PSO\"):\n",
    "            swarm = PSO(obj=obj, npart=npart, ndim=ndim, max_iter=niter, init=i, bounds=b, inertia=LinearInertia())\n",
    "        elif (alg == \"DE\"):\n",
    "            swarm = DE(obj=obj, npart=npart, ndim=ndim, max_iter=niter, init=i, bounds=b)\n",
    "        elif (alg == \"JAYA\"):\n",
    "            swarm = Jaya(obj=obj, npart=npart, ndim=ndim, max_iter=niter, init=i, bounds=b)\n",
    "        elif (alg == \"GA\"):\n",
    "            swarm = GA(obj=obj, npart=npart, ndim=ndim, max_iter=niter, init=i, bounds=b)\n",
    "\n",
    "        start = time.time()\n",
    "        swarm.Optimize()\n",
    "        end = time.time()\n",
    "        running_time.append(end - start)\n",
    "\n",
    "        SetWeights(obj.model, swarm.gpos[-1])\n",
    "        loss = obj.Evaluate(swarm.gpos[-1], data_evaluate_on = val_loader)\n",
    "\n",
    "        val_loss.append(loss)\n",
    "        M.append(alg)\n",
    "\n",
    "    #  Rank the results by loss on the validation set\n",
    "    val_loss = np.array(val_loss)\n",
    "    idx = np.argsort(val_loss)\n",
    "    val_loss = val_loss[idx]\n",
    "    M = np.array(M)[idx]\n",
    "    running_time = np.array(running_time)[idx]\n",
    "\n",
    "    #  Results\n",
    "    print(\"Ranked: (npart=%d, niter=%d)\" % (npart, niter))\n",
    "    print(\"Val Loss  time\")\n",
    "    for i in range(len(M)):\n",
    "        print(\"%7.4f  %.3f  %s\" % (val_loss[i], running_time[i], M[i]))\n",
    "    print()\n",
    "\n",
    "main(5, 8, \"RI\")\n",
    "\n"
   ]
  },
  {
   "cell_type": "code",
   "execution_count": null,
   "metadata": {},
   "outputs": [
    {
     "name": "stdout",
     "output_type": "stream",
     "text": [
      "torch.Size([111, 50])\n",
      "0\n",
      "5550\n",
      "torch.Size([111])\n",
      "5550\n",
      "5661\n",
      "torch.Size([122, 111])\n",
      "5661\n",
      "19203\n",
      "torch.Size([122])\n",
      "19203\n",
      "19325\n",
      "torch.Size([80, 122])\n",
      "19325\n",
      "29085\n",
      "torch.Size([80])\n",
      "29085\n",
      "29165\n",
      "torch.Size([1, 80])\n",
      "29165\n",
      "29245\n",
      "torch.Size([1])\n",
      "29245\n",
      "29246\n",
      "29246\n"
     ]
    }
   ],
   "source": [
    "idx = 0\n",
    "for param in model.parameters():\n",
    "        print(param.size())\n",
    "        print(idx)\n",
    "        idx += param.numel()\n",
    "        print(idx)\n",
    "dims = sum(p.numel() for p in model.parameters())\n",
    "print(dims)"
   ]
  },
  {
   "cell_type": "markdown",
   "metadata": {},
   "source": [
    "1. PSO"
   ]
  },
  {
   "cell_type": "code",
   "execution_count": 18,
   "metadata": {},
   "outputs": [
    {
     "name": "stderr",
     "output_type": "stream",
     "text": [
      "2024-05-28 18:22:03,149 - pyswarms.single.local_best - INFO - Optimize for 50 iters with {'c1': 1.49, 'c2': 1.49, 'w': 0.729, 'k': 8, 'p': 2}\n",
      "pyswarms.single.local_best:  68%|██████▊   |34/50, best_cost=3.22e+9 "
     ]
    }
   ],
   "source": [
    "import pyswarms as ps\n",
    "\n",
    "def objective_function(x):\n",
    "    \"\"\"Higher-level method to do forward_prop in the\n",
    "    whole swarm.\n",
    "\n",
    "    Inputs\n",
    "    ------\n",
    "    x: numpy.ndarray of shape (n_particles, dimensions)\n",
    "        The swarm that will perform the search\n",
    "\n",
    "    Returns\n",
    "    -------\n",
    "    numpy.ndarray of shape (n_particles, )\n",
    "        The computed loss for each particle\n",
    "    \"\"\"\n",
    "    n_particles = x.shape[0]\n",
    "    j = [forward_prop(x[i], model, criterion, test_loader, device) for i in range(n_particles)]\n",
    "    return np.array(j)\n",
    "\n",
    "dims = sum(p.numel() for p in model.parameters())\n",
    "lb = -10 * np.ones(dims)\n",
    "ub = 10 * np.ones(dims)\n",
    "\n",
    "options = {'c1': 1.49, 'c2': 1.49, 'w': 0.729, 'k': 8, 'p': 2}\n",
    "optimizer = ps.single.LocalBestPSO(n_particles=50, dimensions=dims, options=options, bounds=(lb, ub))\n",
    "\n",
    "# Perform optimization\n",
    "best_loss, best_params = optimizer.optimize(objective_function, iters=50)\n",
    "print(f\"Best PSO Loss: {best_loss}\")\n",
    "\n"
   ]
  },
  {
   "cell_type": "markdown",
   "metadata": {},
   "source": [
    "2. Jaya"
   ]
  },
  {
   "cell_type": "code",
   "execution_count": 1,
   "metadata": {},
   "outputs": [
    {
     "ename": "ImportError",
     "evalue": "cannot import name 'jaya' from 'pyJaya' (c:\\Users\\fpt47\\miniconda3\\envs\\pytorch-gpu-python-3-11\\Lib\\site-packages\\pyJaya\\__init__.py)",
     "output_type": "error",
     "traceback": [
      "\u001b[1;31m---------------------------------------------------------------------------\u001b[0m",
      "\u001b[1;31mImportError\u001b[0m                               Traceback (most recent call last)",
      "Cell \u001b[1;32mIn[1], line 1\u001b[0m\n\u001b[1;32m----> 1\u001b[0m \u001b[38;5;28;01mfrom\u001b[39;00m \u001b[38;5;21;01mpyJaya\u001b[39;00m \u001b[38;5;28;01mimport\u001b[39;00m jaya\n\u001b[0;32m      3\u001b[0m best_params, best_loss \u001b[38;5;241m=\u001b[39m jaya(forward_prop, lb, ub, pop_size\u001b[38;5;241m=\u001b[39m\u001b[38;5;241m30\u001b[39m, max_iter\u001b[38;5;241m=\u001b[39m\u001b[38;5;241m100\u001b[39m)\n\u001b[0;32m      4\u001b[0m \u001b[38;5;28mprint\u001b[39m(\u001b[38;5;124mf\u001b[39m\u001b[38;5;124m\"\u001b[39m\u001b[38;5;124mBest Jaya Loss: \u001b[39m\u001b[38;5;132;01m{\u001b[39;00mbest_loss\u001b[38;5;132;01m}\u001b[39;00m\u001b[38;5;124m\"\u001b[39m)\n",
      "\u001b[1;31mImportError\u001b[0m: cannot import name 'jaya' from 'pyJaya' (c:\\Users\\fpt47\\miniconda3\\envs\\pytorch-gpu-python-3-11\\Lib\\site-packages\\pyJaya\\__init__.py)"
     ]
    }
   ],
   "source": [
    "from pyJaya import jaya\n",
    "\n",
    "best_params, best_loss = jaya(forward_prop, lb, ub, pop_size=30, max_iter=100)\n",
    "print(f\"Best Jaya Loss: {best_loss}\")\n",
    "\n",
    "idx = 0\n",
    "for p in model.parameters():\n",
    "    numel = p.numel()\n",
    "    p.data = torch.tensor(best_params[idx:idx + numel]).reshape(p.size()).float()\n",
    "    idx += numel\n",
    "\n"
   ]
  },
  {
   "cell_type": "code",
   "execution_count": null,
   "metadata": {},
   "outputs": [
    {
     "name": "stdout",
     "output_type": "stream",
     "text": [
      "Epoch [1/90], Loss: 0.1249, Val Loss: 0.5356\n",
      "Epoch [2/90], Loss: 0.1544, Val Loss: 0.5603\n",
      "Epoch [3/90], Loss: 0.2535, Val Loss: 0.5364\n",
      "Epoch [4/90], Loss: 0.2410, Val Loss: 0.5254\n",
      "Epoch [5/90], Loss: 0.1075, Val Loss: 0.5656\n",
      "Epoch [6/90], Loss: 0.2685, Val Loss: 0.5931\n",
      "Epoch [7/90], Loss: 0.0859, Val Loss: 0.5842\n",
      "Epoch [8/90], Loss: 0.0702, Val Loss: 0.5662\n",
      "Epoch [9/90], Loss: 0.3889, Val Loss: 0.5347\n",
      "Epoch [10/90], Loss: 0.2327, Val Loss: 0.5305\n",
      "Epoch [11/90], Loss: 0.3328, Val Loss: 0.5357\n",
      "Epoch [12/90], Loss: 0.1874, Val Loss: 0.5391\n",
      "Epoch [13/90], Loss: 0.2055, Val Loss: 0.5158\n",
      "Epoch [14/90], Loss: 0.1083, Val Loss: 0.5228\n",
      "Epoch [15/90], Loss: 0.1554, Val Loss: 0.5625\n",
      "Epoch [16/90], Loss: 0.1805, Val Loss: 0.5611\n",
      "Epoch [17/90], Loss: 0.3067, Val Loss: 0.5440\n",
      "Epoch [18/90], Loss: 0.1176, Val Loss: 0.5389\n",
      "Epoch [19/90], Loss: 0.1777, Val Loss: 0.5563\n",
      "Epoch [20/90], Loss: 0.1619, Val Loss: 0.5354\n",
      "Epoch [21/90], Loss: 0.2291, Val Loss: 0.5876\n",
      "Epoch [22/90], Loss: 0.0787, Val Loss: 0.5684\n",
      "Epoch [23/90], Loss: 0.3209, Val Loss: 0.5339\n",
      "Epoch [24/90], Loss: 0.3449, Val Loss: 0.5544\n",
      "Epoch [25/90], Loss: 0.0798, Val Loss: 0.5233\n",
      "Epoch [26/90], Loss: 0.0828, Val Loss: 0.5543\n",
      "Epoch [27/90], Loss: 0.1368, Val Loss: 0.5504\n",
      "Epoch [28/90], Loss: 0.0464, Val Loss: 0.5164\n",
      "Epoch [29/90], Loss: 0.3665, Val Loss: 0.5294\n",
      "Epoch [30/90], Loss: 0.2142, Val Loss: 0.5203\n",
      "Epoch [31/90], Loss: 0.2017, Val Loss: 0.5509\n",
      "Epoch [32/90], Loss: 0.1147, Val Loss: 0.5323\n",
      "Epoch [33/90], Loss: 0.3463, Val Loss: 0.5286\n",
      "Epoch [34/90], Loss: 0.1966, Val Loss: 0.5084\n",
      "Epoch [35/90], Loss: 0.2022, Val Loss: 0.5267\n",
      "Epoch [36/90], Loss: 0.2211, Val Loss: 0.5441\n",
      "Epoch [37/90], Loss: 0.6601, Val Loss: 0.5142\n",
      "Epoch [38/90], Loss: 0.1490, Val Loss: 0.5141\n",
      "Epoch [39/90], Loss: 0.0489, Val Loss: 0.5219\n",
      "Epoch [40/90], Loss: 0.1452, Val Loss: 0.5478\n",
      "Epoch [41/90], Loss: 0.2598, Val Loss: 0.5203\n",
      "Epoch [42/90], Loss: 0.8557, Val Loss: 0.5284\n",
      "Epoch [43/90], Loss: 0.0964, Val Loss: 0.5498\n",
      "Epoch [44/90], Loss: 0.0558, Val Loss: 0.5206\n",
      "Epoch [45/90], Loss: 0.1632, Val Loss: 0.5498\n",
      "Epoch [46/90], Loss: 1.1371, Val Loss: 0.5404\n",
      "Epoch [47/90], Loss: 0.0497, Val Loss: 0.5346\n",
      "Epoch [48/90], Loss: 0.1001, Val Loss: 0.5411\n",
      "Epoch [49/90], Loss: 0.1062, Val Loss: 0.4994\n",
      "Epoch [50/90], Loss: 0.1398, Val Loss: 0.5254\n",
      "Epoch [51/90], Loss: 0.0451, Val Loss: 0.5438\n",
      "Epoch [52/90], Loss: 0.5530, Val Loss: 0.5275\n",
      "Epoch [53/90], Loss: 0.0536, Val Loss: 0.5470\n",
      "Epoch [54/90], Loss: 0.3915, Val Loss: 0.5886\n",
      "Epoch [55/90], Loss: 0.2302, Val Loss: 0.5297\n",
      "Epoch [56/90], Loss: 0.1354, Val Loss: 0.5550\n",
      "Epoch [57/90], Loss: 0.0915, Val Loss: 0.5110\n",
      "Epoch [58/90], Loss: 0.1625, Val Loss: 0.5468\n",
      "Epoch [59/90], Loss: 0.0979, Val Loss: 0.5104\n",
      "Epoch [60/90], Loss: 0.0301, Val Loss: 0.5388\n",
      "Epoch [61/90], Loss: 0.0782, Val Loss: 0.5272\n",
      "Epoch [62/90], Loss: 0.0603, Val Loss: 0.6139\n",
      "Epoch [63/90], Loss: 0.1639, Val Loss: 0.5079\n",
      "Epoch [64/90], Loss: 0.1120, Val Loss: 0.5163\n",
      "Epoch [65/90], Loss: 0.0642, Val Loss: 0.5491\n",
      "Epoch [66/90], Loss: 0.0739, Val Loss: 0.5478\n",
      "Epoch [67/90], Loss: 0.1970, Val Loss: 0.4982\n",
      "Epoch [68/90], Loss: 0.2368, Val Loss: 0.5207\n",
      "Epoch [69/90], Loss: 0.0890, Val Loss: 0.5186\n",
      "Epoch [70/90], Loss: 0.1104, Val Loss: 0.5357\n",
      "Epoch [71/90], Loss: 0.3248, Val Loss: 0.5070\n",
      "Epoch [72/90], Loss: 0.2157, Val Loss: 0.5133\n",
      "Epoch [73/90], Loss: 0.6751, Val Loss: 0.5252\n",
      "Epoch [74/90], Loss: 0.4508, Val Loss: 0.5737\n",
      "Epoch [75/90], Loss: 0.0488, Val Loss: 0.5239\n",
      "Epoch [76/90], Loss: 0.0474, Val Loss: 0.5823\n",
      "Epoch [77/90], Loss: 0.1994, Val Loss: 0.5084\n",
      "Epoch [78/90], Loss: 0.2397, Val Loss: 0.5598\n",
      "Epoch [79/90], Loss: 0.0901, Val Loss: 0.5293\n",
      "Epoch [80/90], Loss: 0.1048, Val Loss: 0.5006\n",
      "Epoch [81/90], Loss: 0.1386, Val Loss: 0.5614\n",
      "Epoch [82/90], Loss: 0.7697, Val Loss: 0.6363\n",
      "Epoch [83/90], Loss: 0.3537, Val Loss: 0.5451\n",
      "Epoch [84/90], Loss: 0.1809, Val Loss: 0.5491\n",
      "Epoch [85/90], Loss: 0.0572, Val Loss: 0.5157\n",
      "Epoch [86/90], Loss: 0.1907, Val Loss: 0.5383\n",
      "Epoch [87/90], Loss: 0.3903, Val Loss: 0.5540\n",
      "Epoch [88/90], Loss: 0.1411, Val Loss: 0.5237\n",
      "Epoch [89/90], Loss: 0.1611, Val Loss: 0.5302\n",
      "Epoch [90/90], Loss: 1.5588, Val Loss: 0.5664\n",
      "Runtime:  0:01:52.960259\n"
     ]
    },
    {
     "data": {
      "image/png": "[encoded data removed]",
      "text/plain": [
       "<Figure size 1000x500 with 1 Axes>"
      ]
     },
     "metadata": {},
     "output_type": "display_data"
    }
   ],
   "source": [
    "train_losses = []\n",
    "val_losses = []\n",
    "\n",
    "start_time = datetime.now()\n",
    "# Training loop with early stopping\n",
    "best_val_loss = float('inf')\n",
    "epochs_without_improvement = 0\n",
    "patience = 20\n",
    "num_epochs = 90\n",
    "with open(\"result.txt\", \"a\") as f:\n",
    "    f.write(\"TruncatedSVD_50\" + '\\n')\n",
    "    f.write(f\"MLP with layer size: {hidden_layer_sizes} - Result:\\n\")\n",
    "    for epoch in range(num_epochs):\n",
    "        model.train()  # Set the model to training mode\n",
    "        for (data, target) in train_loader:\n",
    "            data, target = data.to(device), target.to(device)  # Move data to the device\n",
    "            optimizer.zero_grad()\n",
    "            output = model(data)\n",
    "            loss = criterion(output, target)\n",
    "            loss.backward()\n",
    "            optimizer.step()\n",
    "\n",
    "        # Validation\n",
    "        model.eval()  # Set the model to evaluation mode\n",
    "        val_loss = 0\n",
    "        with torch.no_grad():\n",
    "            for data, target in val_loader:\n",
    "                data, target = data.to(device), target.to(device)\n",
    "                output = model(data)\n",
    "                val_loss += criterion(output, target).item()\n",
    "        val_loss /= len(val_loader)\n",
    "\n",
    "        # Early stopping\n",
    "        if val_loss < best_val_loss:\n",
    "            best_val_loss = val_loss\n",
    "            epochs_without_improvement = 0\n",
    "        elif val_loss - best_val_loss < 0.005:\n",
    "            epochs_without_improvement = 0\n",
    "        else:\n",
    "            epochs_without_improvement += 1\n",
    "            if epochs_without_improvement >= patience:\n",
    "                print(f'Early stopping at epoch {epoch}')\n",
    "                f.write(f'Early stopping at epoch {epoch}' + '\\n')\n",
    "                break\n",
    "        train_losses.append(np.sqrt(loss.item())) # Store RMSE for training\n",
    "        val_losses.append(np.sqrt(val_loss))       # Store RMSE for validation\n",
    "        result = f'Epoch [{epoch+1}/{num_epochs}], Loss: {np.sqrt(loss.item()):.4f}, Val Loss: {np.sqrt(val_loss):.4f}'\n",
    "        print(result)\n",
    "        f.write(result + \"\\n\")\n",
    "    running_time = datetime.now() - start_time\n",
    "    print(\"Runtime: \", running_time)\n",
    "    f.write(f\"Runtime: {running_time}\" + '\\n')\n",
    "\n",
    "# Plotting\n",
    "plt.figure(figsize=(10, 5))\n",
    "plt.plot(train_losses, label='Training RMSE')\n",
    "plt.plot(val_losses, label='Validation RMSE')\n",
    "plt.xlabel('Epoch')\n",
    "plt.ylabel('Root Mean Squared Error (RMSE)')\n",
    "plt.title('Training and Validation RMSE')\n",
    "plt.legend()\n",
    "plt.grid(True)\n",
    "plt.show()"
   ]
  },
  {
   "cell_type": "code",
   "execution_count": null,
   "metadata": {},
   "outputs": [],
   "source": [
    "all_preds = np.empty((0, 1))\n",
    "all_targets = np.empty((0, 1))\n",
    "with open(\"result.txt\", \"a\") as f:\n",
    "    model.eval()\n",
    "    with torch.no_grad():\n",
    "        test_loss = 0\n",
    "        for inputs, targets in test_loader:\n",
    "            inputs, targets = inputs.to(device), targets.to(device)\n",
    "            outputs = model(inputs)\n",
    "\n",
    "            all_preds = np.vstack((all_preds, outputs.cpu().numpy()))\n",
    "            all_targets = np.vstack((all_targets, targets.cpu().numpy()))\n",
    "    \n",
    "    # Flatten arrays to 1D\n",
    "    all_preds = all_preds.flatten()\n",
    "    all_targets = all_targets.flatten()\n",
    "\n",
    "    r2 = r2_score(all_targets, all_preds)\n",
    "    rmse = np.sqrt(mean_squared_error(all_targets, all_preds))\n",
    "    mae = mean_absolute_error(all_targets, all_preds)\n",
    "    mape = np.mean(np.abs((all_targets - all_preds) / all_targets)) * 100\n",
    "    \n",
    "    print(f'R^2 Score: {r2:.4f}')\n",
    "    print(f'RMSE: {rmse:.4f}')\n",
    "    print(f'MAE: {mae:.4f}')\n",
    "    print(f'MAPE: {mape:.2f}%')\n",
    "\n",
    "    f.write(f'R^2 Score: {r2:.4f}' + '\\n')\n",
    "    f.write(f'RMSE: {rmse:.4f}' + '\\n')\n",
    "    f.write(f'MAE: {mae:.4f}' + '\\n')"
   ]
  }
 ],
 "metadata": {
  "kernelspec": {
   "display_name": "Pytorch GPU (Python 3.11)",
   "language": "python",
   "name": "pytorch-gpu-python-3-11"
  },
  "language_info": {
   "codemirror_mode": {
    "name": "ipython",
    "version": 3
   },
   "file_extension": ".py",
   "mimetype": "text/x-python",
   "name": "python",
   "nbconvert_exporter": "python",
   "pygments_lexer": "ipython3",
   "version": "3.11.9"
  }
 },
 "nbformat": 4,
 "nbformat_minor": 2
}
