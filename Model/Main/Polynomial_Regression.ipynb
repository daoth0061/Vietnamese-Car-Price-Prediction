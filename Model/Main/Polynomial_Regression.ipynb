{
  "cells": [
    {
      "cell_type": "markdown",
      "metadata": {
        "id": "oShQM8XKgAxv"
      },
      "source": [
        "# **1. Import required libraries**"
      ]
    },
    {
      "cell_type": "code",
      "execution_count": 8,
      "metadata": {
        "id": "ATX_XEN8f1iJ"
      },
      "outputs": [],
      "source": [
        "import pandas as pd\n",
        "from sklearn.pipeline import Pipeline, make_pipeline\n",
        "from sklearn.model_selection import train_test_split\n",
        "from sklearn.linear_model import LinearRegression\n",
        "from sklearn.metrics import mean_squared_error,r2_score\n",
        "from sklearn.preprocessing import OneHotEncoder, LabelEncoder\n",
        "from sklearn.preprocessing import PolynomialFeatures\n",
        "from sklearn.compose import ColumnTransformer\n",
        "from sklearn.preprocessing import LabelEncoder, FunctionTransformer\n",
        "import numpy as np\n",
        "import pickle\n",
        "import joblib"
      ]
    },
    {
      "cell_type": "markdown",
      "metadata": {
        "id": "KKLokg9ggQWW"
      },
      "source": [
        "# **2. Data Processing**"
      ]
    },
    {
      "cell_type": "code",
      "execution_count": 10,
      "metadata": {
        "id": "hpKwJG5RgPqd"
      },
      "outputs": [],
      "source": [
        "# Custom function to handle label encoding\n",
        "def label_encode(df, columns):\n",
        "    label_encoders = {}\n",
        "    for column in columns:\n",
        "        le = LabelEncoder()\n",
        "        df[column] = le.fit_transform(df[column])\n",
        "        label_encoders[column] = le\n",
        "    return df, label_encoders\n",
        "\n",
        "# Custom function for full preprocessing\n",
        "def full_preprocessing(df):\n",
        "    columns_for_encoding = ['origin', 'car_model', 'exterior_color', 'interior_color', 'engine', 'transmission', 'drive_type']\n",
        "    df, label_encoders = label_encode(df, columns_for_encoding)\n",
        "    df = df.dropna()\n",
        "    return df\n",
        "\n",
        "# FunctionTransformer to wrap the custom functions\n",
        "label_encode_transformer = FunctionTransformer(label_encode, kw_args={'columns': ['origin', 'car_model', 'exterior_color', 'interior_color', 'engine', 'transmission', 'drive_type']})\n",
        "full_preprocessing_transformer = FunctionTransformer(full_preprocessing)\n",
        "\n",
        "# Define the pipeline\n",
        "pipeline = Pipeline([\n",
        "    ('full_preprocessing', full_preprocessing_transformer)\n",
        "])\n",
        "\n"
      ]
    },
    {
      "cell_type": "code",
      "execution_count": null,
      "metadata": {},
      "outputs": [],
      "source": [
        "num_of_doors,seating_capacity,engine_capacity,fuel_consumption,Brand_Ranking,Yeo_Johnson_mileage,age\n"
      ]
    },
    {
      "cell_type": "code",
      "execution_count": 11,
      "metadata": {},
      "outputs": [
        {
          "name": "stdout",
          "output_type": "stream",
          "text": [
            "   origin  car_model  exterior_color  interior_color  num_of_doors  \\\n",
            "0       0          7              14               8             2   \n",
            "1       1          5               0               0             5   \n",
            "2       0          2              12               1             5   \n",
            "3       1          5              14               0             5   \n",
            "4       0          2              12               8             5   \n",
            "\n",
            "   seating_capacity  engine  engine_capacity  transmission  drive_type  \\\n",
            "0                 2       3              1.0             1           4   \n",
            "1                 7       3              3.4             0           2   \n",
            "2                 8       3              2.0             0           4   \n",
            "3                 5       3              1.8             0           3   \n",
            "4                 8       3              2.0             0           4   \n",
            "\n",
            "   fuel_consumption  Brand_Ranking  Yeo_Johnson_mileage  age  \n",
            "0              10.1             19             2.312535    2  \n",
            "1              12.8              3             2.549445    2  \n",
            "2              11.0              3             2.397895    1  \n",
            "3               6.5              3             1.871802    1  \n",
            "4              11.0              3             2.397895    2  \n",
            "0    0.249\n",
            "1    4.286\n",
            "2    0.885\n",
            "3    0.754\n",
            "4    0.840\n",
            "Name: price_in_billion, dtype: float64\n"
          ]
        }
      ],
      "source": [
        "# Load data\n",
        "df = pd.read_csv('D:\\Project\\Car-Evaluation\\Dataset\\Final\\DataVersion3.csv')\n",
        "\n",
        "price_column = df['price_in_billion']\n",
        "df = df.drop(columns=['price_in_billion','ad_id','car_name'])\n",
        "\n",
        "# Apply pipeline\n",
        "df_processed = pipeline.fit_transform(df)\n",
        "\n",
        "# Divide into features and target\n",
        "features = df_processed\n",
        "target = price_column\n",
        "\n",
        "# Show the processed data\n",
        "print(features.head())\n",
        "print(target.head())"
      ]
    },
    {
      "cell_type": "code",
      "execution_count": 12,
      "metadata": {},
      "outputs": [
        {
          "data": {
            "text/plain": [
              "['poly_regress_processor.pkl']"
            ]
          },
          "execution_count": 12,
          "metadata": {},
          "output_type": "execute_result"
        }
      ],
      "source": [
        "# Save processor to pickle\n",
        "joblib.dump(pipeline, 'poly_regress_processor.pkl')"
      ]
    },
    {
      "cell_type": "markdown",
      "metadata": {
        "id": "kdXOtjuCgb1P"
      },
      "source": [
        "# **3. Build Multi Regression Model**"
      ]
    },
    {
      "cell_type": "code",
      "execution_count": 13,
      "metadata": {
        "colab": {
          "base_uri": "https://localhost:8080/",
          "height": 75
        },
        "id": "7CQImKvNggX7",
        "outputId": "76161f0f-a0f3-4a01-8e8c-78ed72b83522"
      },
      "outputs": [
        {
          "data": {
            "text/html": [
              "<style>#sk-container-id-1 {color: black;}#sk-container-id-1 pre{padding: 0;}#sk-container-id-1 div.sk-toggleable {background-color: white;}#sk-container-id-1 label.sk-toggleable__label {cursor: pointer;display: block;width: 100%;margin-bottom: 0;padding: 0.3em;box-sizing: border-box;text-align: center;}#sk-container-id-1 label.sk-toggleable__label-arrow:before {content: \"▸\";float: left;margin-right: 0.25em;color: #696969;}#sk-container-id-1 label.sk-toggleable__label-arrow:hover:before {color: black;}#sk-container-id-1 div.sk-estimator:hover label.sk-toggleable__label-arrow:before {color: black;}#sk-container-id-1 div.sk-toggleable__content {max-height: 0;max-width: 0;overflow: hidden;text-align: left;background-color: #f0f8ff;}#sk-container-id-1 div.sk-toggleable__content pre {margin: 0.2em;color: black;border-radius: 0.25em;background-color: #f0f8ff;}#sk-container-id-1 input.sk-toggleable__control:checked~div.sk-toggleable__content {max-height: 200px;max-width: 100%;overflow: auto;}#sk-container-id-1 input.sk-toggleable__control:checked~label.sk-toggleable__label-arrow:before {content: \"▾\";}#sk-container-id-1 div.sk-estimator input.sk-toggleable__control:checked~label.sk-toggleable__label {background-color: #d4ebff;}#sk-container-id-1 div.sk-label input.sk-toggleable__control:checked~label.sk-toggleable__label {background-color: #d4ebff;}#sk-container-id-1 input.sk-hidden--visually {border: 0;clip: rect(1px 1px 1px 1px);clip: rect(1px, 1px, 1px, 1px);height: 1px;margin: -1px;overflow: hidden;padding: 0;position: absolute;width: 1px;}#sk-container-id-1 div.sk-estimator {font-family: monospace;background-color: #f0f8ff;border: 1px dotted black;border-radius: 0.25em;box-sizing: border-box;margin-bottom: 0.5em;}#sk-container-id-1 div.sk-estimator:hover {background-color: #d4ebff;}#sk-container-id-1 div.sk-parallel-item::after {content: \"\";width: 100%;border-bottom: 1px solid gray;flex-grow: 1;}#sk-container-id-1 div.sk-label:hover label.sk-toggleable__label {background-color: #d4ebff;}#sk-container-id-1 div.sk-serial::before {content: \"\";position: absolute;border-left: 1px solid gray;box-sizing: border-box;top: 0;bottom: 0;left: 50%;z-index: 0;}#sk-container-id-1 div.sk-serial {display: flex;flex-direction: column;align-items: center;background-color: white;padding-right: 0.2em;padding-left: 0.2em;position: relative;}#sk-container-id-1 div.sk-item {position: relative;z-index: 1;}#sk-container-id-1 div.sk-parallel {display: flex;align-items: stretch;justify-content: center;background-color: white;position: relative;}#sk-container-id-1 div.sk-item::before, #sk-container-id-1 div.sk-parallel-item::before {content: \"\";position: absolute;border-left: 1px solid gray;box-sizing: border-box;top: 0;bottom: 0;left: 50%;z-index: -1;}#sk-container-id-1 div.sk-parallel-item {display: flex;flex-direction: column;z-index: 1;position: relative;background-color: white;}#sk-container-id-1 div.sk-parallel-item:first-child::after {align-self: flex-end;width: 50%;}#sk-container-id-1 div.sk-parallel-item:last-child::after {align-self: flex-start;width: 50%;}#sk-container-id-1 div.sk-parallel-item:only-child::after {width: 0;}#sk-container-id-1 div.sk-dashed-wrapped {border: 1px dashed gray;margin: 0 0.4em 0.5em 0.4em;box-sizing: border-box;padding-bottom: 0.4em;background-color: white;}#sk-container-id-1 div.sk-label label {font-family: monospace;font-weight: bold;display: inline-block;line-height: 1.2em;}#sk-container-id-1 div.sk-label-container {text-align: center;}#sk-container-id-1 div.sk-container {/* jupyter's `normalize.less` sets `[hidden] { display: none; }` but bootstrap.min.css set `[hidden] { display: none !important; }` so we also need the `!important` here to be able to override the default hidden behavior on the sphinx rendered scikit-learn.org. See: https://github.com/scikit-learn/scikit-learn/issues/21755 */display: inline-block !important;position: relative;}#sk-container-id-1 div.sk-text-repr-fallback {display: none;}</style><div id=\"sk-container-id-1\" class=\"sk-top-container\"><div class=\"sk-text-repr-fallback\"><pre>LinearRegression()</pre><b>In a Jupyter environment, please rerun this cell to show the HTML representation or trust the notebook. <br />On GitHub, the HTML representation is unable to render, please try loading this page with nbviewer.org.</b></div><div class=\"sk-container\" hidden><div class=\"sk-item\"><div class=\"sk-estimator sk-toggleable\"><input class=\"sk-toggleable__control sk-hidden--visually\" id=\"sk-estimator-id-1\" type=\"checkbox\" checked><label for=\"sk-estimator-id-1\" class=\"sk-toggleable__label sk-toggleable__label-arrow\">LinearRegression</label><div class=\"sk-toggleable__content\"><pre>LinearRegression()</pre></div></div></div></div></div>"
            ],
            "text/plain": [
              "LinearRegression()"
            ]
          },
          "execution_count": 13,
          "metadata": {},
          "output_type": "execute_result"
        }
      ],
      "source": [
        "X_train, X_test, y_train, y_test = train_test_split(features, target, test_size=0.2, random_state=42)\n",
        "poly_features = PolynomialFeatures(degree=2, include_bias=True)\n",
        "X_train_poly = poly_features.fit_transform(X_train)\n",
        "X_test_poly = poly_features.transform(X_test)\n",
        "\n",
        "# Train Regression model on Polynomial features\n",
        "model = LinearRegression()\n",
        "model.fit(X_train_poly, y_train)\n",
        "#ridge_model = Ridge(alpha=1.0)\n",
        "#ridge_model.fit(X_train_poly, y_train)"
      ]
    },
    {
      "cell_type": "code",
      "execution_count": 14,
      "metadata": {
        "colab": {
          "base_uri": "https://localhost:8080/"
        },
        "id": "Jdy3BykNzad8",
        "outputId": "b00d9cc7-9594-4ca4-f4ab-9b13a59b0c71"
      },
      "outputs": [
        {
          "name": "stdout",
          "output_type": "stream",
          "text": [
            "(20635, 14)\n",
            "(20635, 120)\n"
          ]
        }
      ],
      "source": [
        "print(X_train.shape)\n",
        "print(X_train_poly.shape)"
      ]
    },
    {
      "cell_type": "markdown",
      "metadata": {
        "id": "sQ5NFcOXgjHZ"
      },
      "source": [
        "# **4. Evaluate Model**"
      ]
    },
    {
      "cell_type": "code",
      "execution_count": 15,
      "metadata": {
        "colab": {
          "base_uri": "https://localhost:8080/"
        },
        "id": "Bt4B7bbygeoj",
        "outputId": "d54f05a5-defe-4585-ebd7-a7165a61fbc9"
      },
      "outputs": [
        {
          "name": "stdout",
          "output_type": "stream",
          "text": [
            "Root Mean Squared Error (RMSE): 1.089449608731293\n",
            "R2 Score: 0.691909922473662\n"
          ]
        }
      ],
      "source": [
        "y_pred = model.predict(X_test_poly)\n",
        "rmse = np.sqrt(mean_squared_error(y_test, y_pred))\n",
        "r2 = r2_score(y_test, y_pred)\n",
        "\n",
        "print(\"Root Mean Squared Error (RMSE):\", rmse)\n",
        "print(\"R2 Score:\", r2)"
      ]
    },
    {
      "cell_type": "code",
      "execution_count": 16,
      "metadata": {
        "id": "77pz7_L6goJI"
      },
      "outputs": [
        {
          "data": {
            "text/plain": [
              "['pr_model.joblib']"
            ]
          },
          "execution_count": 16,
          "metadata": {},
          "output_type": "execute_result"
        }
      ],
      "source": [
        "joblib.dump(model,\"pr_model.joblib\")"
      ]
    }
  ],
  "metadata": {
    "colab": {
      "provenance": []
    },
    "kernelspec": {
      "display_name": "Python 3",
      "name": "python3"
    },
    "language_info": {
      "codemirror_mode": {
        "name": "ipython",
        "version": 3
      },
      "file_extension": ".py",
      "mimetype": "text/x-python",
      "name": "python",
      "nbconvert_exporter": "python",
      "pygments_lexer": "ipython3",
      "version": "3.11.9"
    }
  },
  "nbformat": 4,
  "nbformat_minor": 0
}
